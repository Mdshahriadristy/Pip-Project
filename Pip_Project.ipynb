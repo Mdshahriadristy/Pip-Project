{
  "cells": [
    {
      "cell_type": "markdown",
      "metadata": {
        "id": "view-in-github",
        "colab_type": "text"
      },
      "source": [
        "<a href=\"https://colab.research.google.com/github/Mdshahriadristy/Pip-Project/blob/main/Pip_Project.ipynb\" target=\"_parent\"><img src=\"https://colab.research.google.com/assets/colab-badge.svg\" alt=\"Open In Colab\"/></a>"
      ]
    },
    {
      "cell_type": "markdown",
      "metadata": {
        "id": "Fn6WiTjEAAG3"
      },
      "source": [
        "## Step1\n",
        "\n"
      ]
    },
    {
      "cell_type": "code",
      "execution_count": null,
      "metadata": {
        "id": "yN7PHRZR94SK"
      },
      "outputs": [],
      "source": [
        "import pandas as pd\n",
        "import numpy as np\n",
        "import matplotlib.pyplot as plt"
      ]
    },
    {
      "cell_type": "code",
      "execution_count": null,
      "metadata": {
        "colab": {
          "base_uri": "https://localhost:8080/"
        },
        "id": "CYW3ZcTV-Jan",
        "outputId": "77fa92e3-87e9-451e-dedc-68936e39792e"
      },
      "outputs": [
        {
          "name": "stdout",
          "output_type": "stream",
          "text": [
            "[           Date     Product Region Customer_Type  Quantity  Price  Discount  \\\n",
            "0    2024-08-02  Cappuccino   West           New         9  14.20      0.12   \n",
            "1    2024-04-16       Latte   East           New        74  16.81      0.26   \n",
            "2    2024-03-03    Espresso   West           New        19  16.34      0.21   \n",
            "3    2024-11-03    Pastries   West           New        93  13.13      0.29   \n",
            "4    2024-03-10       Latte  North           New        73   1.08      0.22   \n",
            "..          ...         ...    ...           ...       ...    ...       ...   \n",
            "995  2024-08-13  Cappuccino   East       Regular        22   1.23      0.03   \n",
            "996  2024-09-01       Latte  South           New        80   7.55      0.26   \n",
            "997  2024-12-29    Pastries  South       Regular        89  16.25      0.21   \n",
            "998  2024-06-10    Pastries  South           New        12  18.67      0.24   \n",
            "999  2024-01-10  Cappuccino  North       Regular         9  15.27      0.17   \n",
            "\n",
            "     Revenue  \n",
            "0     112.46  \n",
            "1     920.52  \n",
            "2     245.26  \n",
            "3     866.97  \n",
            "4      61.50  \n",
            "..       ...  \n",
            "995    26.25  \n",
            "996   446.96  \n",
            "997  1142.54  \n",
            "998   170.27  \n",
            "999   114.07  \n",
            "\n",
            "[1000 rows x 8 columns]]\n"
          ]
        }
      ],
      "source": [
        "df = pd.read_csv('Shahria_Coffee Shop Sales_Notebook.csv')\n",
        "Output =  []\n",
        "Output.append(df)\n",
        "print(Output)\n"
      ]
    },
    {
      "cell_type": "markdown",
      "metadata": {
        "id": "OGtIMXKREXjF"
      },
      "source": [
        "Step2\n"
      ]
    },
    {
      "cell_type": "code",
      "execution_count": null,
      "metadata": {
        "colab": {
          "base_uri": "https://localhost:8080/"
        },
        "id": "vclPj71YEd_z",
        "outputId": "6d2ac532-2712-4198-bd74-513b3ad6df4e"
      },
      "outputs": [
        {
          "name": "stdout",
          "output_type": "stream",
          "text": [
            "         Date     Product Region Customer_Type  Quantity  Price  Discount  \\\n",
            "0  2024-08-02  Cappuccino   West           New         9  14.20      0.12   \n",
            "1  2024-04-16       Latte   East           New        74  16.81      0.26   \n",
            "2  2024-03-03    Espresso   West           New        19  16.34      0.21   \n",
            "3  2024-11-03    Pastries   West           New        93  13.13      0.29   \n",
            "4  2024-03-10       Latte  North           New        73   1.08      0.22   \n",
            "\n",
            "   Revenue  \n",
            "0   112.46  \n",
            "1   920.52  \n",
            "2   245.26  \n",
            "3   866.97  \n",
            "4    61.50  \n"
          ]
        }
      ],
      "source": [
        "print(df.head())\n",
        "Output.append(f\"first few rows:\\n{df.head()}\\n\")\n"
      ]
    },
    {
      "cell_type": "code",
      "execution_count": null,
      "metadata": {
        "colab": {
          "base_uri": "https://localhost:8080/"
        },
        "id": "0NheoeskGIZW",
        "outputId": "45b1abcb-e3c9-4476-887d-1a3709c50017"
      },
      "outputs": [
        {
          "name": "stdout",
          "output_type": "stream",
          "text": [
            "          Quantity        Price     Discount      Revenue\n",
            "count  1000.000000  1000.000000  1000.000000  1000.000000\n",
            "mean     51.525000    10.475800     0.151960   459.389710\n",
            "std      28.880191     5.488437     0.087828   383.170965\n",
            "min       1.000000     1.010000     0.000000     0.900000\n",
            "25%      27.000000     5.747500     0.080000   148.687500\n",
            "50%      51.000000    10.485000     0.150000   347.220000\n",
            "75%      78.000000    15.130000     0.230000   688.907500\n",
            "max     100.000000    20.000000     0.300000  1793.270000\n"
          ]
        }
      ],
      "source": [
        "print(df.describe())\n",
        "Output.append(f\"describe:\\n{df.describe()}\")\n"
      ]
    },
    {
      "cell_type": "markdown",
      "metadata": {
        "id": "ktiz6sLDGzaV"
      },
      "source": [
        "Step3\n"
      ]
    },
    {
      "cell_type": "code",
      "execution_count": null,
      "metadata": {
        "colab": {
          "base_uri": "https://localhost:8080/"
        },
        "id": "irTzKKnfG2ZQ",
        "outputId": "3604c8e1-4b3a-4582-9479-2654ff7a21b6"
      },
      "outputs": [
        {
          "name": "stdout",
          "output_type": "stream",
          "text": [
            "Date             0\n",
            "Product          0\n",
            "Region           0\n",
            "Customer_Type    0\n",
            "Quantity         0\n",
            "Price            0\n",
            "Discount         0\n",
            "Revenue          0\n",
            "dtype: int64\n",
            "           Date     Product Region Customer_Type  Quantity  Price  Discount  \\\n",
            "0    2024-08-02  Cappuccino   West           New         9  14.20      0.12   \n",
            "1    2024-04-16       Latte   East           New        74  16.81      0.26   \n",
            "2    2024-03-03    Espresso   West           New        19  16.34      0.21   \n",
            "3    2024-11-03    Pastries   West           New        93  13.13      0.29   \n",
            "4    2024-03-10       Latte  North           New        73   1.08      0.22   \n",
            "..          ...         ...    ...           ...       ...    ...       ...   \n",
            "995  2024-08-13  Cappuccino   East       Regular        22   1.23      0.03   \n",
            "996  2024-09-01       Latte  South           New        80   7.55      0.26   \n",
            "997  2024-12-29    Pastries  South       Regular        89  16.25      0.21   \n",
            "998  2024-06-10    Pastries  South           New        12  18.67      0.24   \n",
            "999  2024-01-10  Cappuccino  North       Regular         9  15.27      0.17   \n",
            "\n",
            "     Revenue  \n",
            "0     112.46  \n",
            "1     920.52  \n",
            "2     245.26  \n",
            "3     866.97  \n",
            "4      61.50  \n",
            "..       ...  \n",
            "995    26.25  \n",
            "996   446.96  \n",
            "997  1142.54  \n",
            "998   170.27  \n",
            "999   114.07  \n",
            "\n",
            "[1000 rows x 8 columns]\n"
          ]
        }
      ],
      "source": [
        "Output.append(\"Data Cleaning Result:\\n\")\n",
        "missing_values = df.isnull().sum()\n",
        "print(missing_values)\n",
        "Output.append(f\"Missing values:\\n{missing_values}\\n\")\n",
        "df.dropna(inplace=True)\n",
        "Output.append(\"Dropped rows with missing values:\\n\")\n",
        "print(df)\n"
      ]
    },
    {
      "cell_type": "code",
      "execution_count": null,
      "metadata": {
        "colab": {
          "base_uri": "https://localhost:8080/"
        },
        "id": "1rSnxP98HZ8K",
        "outputId": "c58e0615-bfd4-42ec-bb09-2700df4ff696"
      },
      "outputs": [
        {
          "name": "stdout",
          "output_type": "stream",
          "text": [
            "          Date     Product Region Customer_Type  Quantity  Price  Discount  \\\n",
            "0   2024-08-02  Cappuccino   West           New         9  14.20      0.12   \n",
            "1   2024-04-16       Latte   East           New        74  16.81      0.26   \n",
            "2   2024-03-03    Espresso   West           New        19  16.34      0.21   \n",
            "3   2024-11-03    Pastries   West           New        93  13.13      0.29   \n",
            "4   2024-03-10       Latte  North           New        73   1.08      0.22   \n",
            "..         ...         ...    ...           ...       ...    ...       ...   \n",
            "995 2024-08-13  Cappuccino   East       Regular        22   1.23      0.03   \n",
            "996 2024-09-01       Latte  South           New        80   7.55      0.26   \n",
            "997 2024-12-29    Pastries  South       Regular        89  16.25      0.21   \n",
            "998 2024-06-10    Pastries  South           New        12  18.67      0.24   \n",
            "999 2024-01-10  Cappuccino  North       Regular         9  15.27      0.17   \n",
            "\n",
            "     Revenue        Day  \n",
            "0     112.46     Friday  \n",
            "1     920.52    Tuesday  \n",
            "2     245.26     Sunday  \n",
            "3     866.97     Sunday  \n",
            "4      61.50     Sunday  \n",
            "..       ...        ...  \n",
            "995    26.25    Tuesday  \n",
            "996   446.96     Sunday  \n",
            "997  1142.54     Sunday  \n",
            "998   170.27     Monday  \n",
            "999   114.07  Wednesday  \n",
            "\n",
            "[1000 rows x 9 columns]\n"
          ]
        }
      ],
      "source": [
        "df['Date'] =pd.to_datetime(df['Date'])\n",
        "df['Day']=df['Date'].dt.day_name()\n",
        "print(df)\n",
        "\n"
      ]
    },
    {
      "cell_type": "markdown",
      "metadata": {
        "id": "X-D1m4lpJetJ"
      },
      "source": [
        "Step4\n"
      ]
    },
    {
      "cell_type": "code",
      "execution_count": 1,
      "metadata": {
        "id": "G2ROD0EHJhAv",
        "colab": {
          "base_uri": "https://localhost:8080/",
          "height": 176
        },
        "outputId": "00b811af-45ba-4a75-cfe4-108303420e89"
      },
      "outputs": [
        {
          "output_type": "error",
          "ename": "NameError",
          "evalue": "name 'df' is not defined",
          "traceback": [
            "\u001b[0;31m---------------------------------------------------------------------------\u001b[0m",
            "\u001b[0;31mNameError\u001b[0m                                 Traceback (most recent call last)",
            "\u001b[0;32m<ipython-input-1-650fe0f5f3f2>\u001b[0m in \u001b[0;36m<cell line: 1>\u001b[0;34m()\u001b[0m\n\u001b[0;32m----> 1\u001b[0;31m \u001b[0mduplicates\u001b[0m \u001b[0;34m=\u001b[0m \u001b[0mdf\u001b[0m\u001b[0;34m.\u001b[0m\u001b[0mduplicated\u001b[0m\u001b[0;34m(\u001b[0m\u001b[0;34m)\u001b[0m\u001b[0;34m.\u001b[0m\u001b[0msum\u001b[0m\u001b[0;34m\u001b[0m\u001b[0;34m\u001b[0m\u001b[0m\n\u001b[0m\u001b[1;32m      2\u001b[0m \u001b[0mOutput\u001b[0m\u001b[0;34m.\u001b[0m\u001b[0mappend\u001b[0m\u001b[0;34m(\u001b[0m\u001b[0;34mf\" Number of Duplicates Dropped: {duplicates()}\\n\"\u001b[0m\u001b[0;34m)\u001b[0m\u001b[0;34m\u001b[0m\u001b[0;34m\u001b[0m\u001b[0m\n\u001b[1;32m      3\u001b[0m \u001b[0mdf\u001b[0m\u001b[0;34m.\u001b[0m\u001b[0mdrop_duplicates\u001b[0m\u001b[0;34m(\u001b[0m\u001b[0minplace\u001b[0m\u001b[0;34m=\u001b[0m\u001b[0;32mTrue\u001b[0m\u001b[0;34m)\u001b[0m\u001b[0;34m\u001b[0m\u001b[0;34m\u001b[0m\u001b[0m\n",
            "\u001b[0;31mNameError\u001b[0m: name 'df' is not defined"
          ]
        }
      ],
      "source": [
        "duplicates = df.duplicated().sum\n",
        "Output.append(f\" Number of Duplicates Dropped: {duplicates()}\\n\")\n",
        "df.drop_duplicates(inplace=True)\n"
      ]
    },
    {
      "cell_type": "markdown",
      "metadata": {
        "id": "gpXhypUiL7z1"
      },
      "source": [
        "Step5\n"
      ]
    },
    {
      "cell_type": "code",
      "execution_count": null,
      "metadata": {
        "colab": {
          "background_save": true,
          "base_uri": "https://localhost:8080/",
          "height": 547
        },
        "id": "efga79itL-qC",
        "outputId": "2f64ab85-42b5-4da6-9580-fe5607f60859"
      },
      "outputs": [
        {
          "name": "stdout",
          "output_type": "stream",
          "text": [
            "Total_Revenue: $459389.71\n"
          ]
        }
      ],
      "source": [
        "total_revenue = df['Revenue'].sum()\n",
        "Output.append(f\"Total Revenue: ${total_Revenue}\\n\")\n",
        "print(f'Total_Revenue: ${total_Revenue}')"
      ]
    },
    {
      "cell_type": "code",
      "execution_count": null,
      "metadata": {
        "colab": {
          "background_save": true,
          "base_uri": "https://localhost:8080/",
          "height": 106
        },
        "id": "v914_byJOM9Z",
        "outputId": "a40506df-75ba-47a2-d38a-5bfd2a4b3bdc"
      },
      "outputs": [
        {
          "ename": "KeyError",
          "evalue": "'Column not found: price'",
          "output_type": "error",
          "traceback": [
            "\u001b[0;31m---------------------------------------------------------------------------\u001b[0m",
            "\u001b[0;31mKeyError\u001b[0m                                  Traceback (most recent call last)",
            "\u001b[0;32m<ipython-input-42-6e2969bbb183>\u001b[0m in \u001b[0;36m<cell line: 1>\u001b[0;34m()\u001b[0m\n\u001b[0;32m----> 1\u001b[0;31m \u001b[0maverage_Priceper_service\u001b[0m \u001b[0;34m=\u001b[0m \u001b[0mdf\u001b[0m\u001b[0;34m.\u001b[0m\u001b[0mgroupby\u001b[0m\u001b[0;34m(\u001b[0m\u001b[0;34m'Customer_Type'\u001b[0m\u001b[0;34m)\u001b[0m\u001b[0;34m[\u001b[0m\u001b[0;34m'price'\u001b[0m\u001b[0;34m]\u001b[0m\u001b[0;34m.\u001b[0m\u001b[0mmean\u001b[0m\u001b[0;34m(\u001b[0m\u001b[0;34m)\u001b[0m\u001b[0;34m\u001b[0m\u001b[0;34m\u001b[0m\u001b[0m\n\u001b[0m\u001b[1;32m      2\u001b[0m \u001b[0mOutput\u001b[0m\u001b[0;34m.\u001b[0m\u001b[0mappend\u001b[0m\u001b[0;34m(\u001b[0m\u001b[0;34mf\"Average Price per Customer Type:\\n\"\u001b[0m\u001b[0;34m)\u001b[0m\u001b[0;34m\u001b[0m\u001b[0;34m\u001b[0m\u001b[0m\n\u001b[1;32m      3\u001b[0m \u001b[0mOutput\u001b[0m\u001b[0;34m.\u001b[0m\u001b[0mappend\u001b[0m\u001b[0;34m(\u001b[0m\u001b[0;34mf\"{average_Priceper_service}\\n\"\u001b[0m\u001b[0;34m)\u001b[0m\u001b[0;34m\u001b[0m\u001b[0;34m\u001b[0m\u001b[0m\n\u001b[1;32m      4\u001b[0m \u001b[0maverage_priceper_service\u001b[0m\u001b[0;34m\u001b[0m\u001b[0;34m\u001b[0m\u001b[0m\n",
            "\u001b[0;32m/usr/local/lib/python3.10/dist-packages/pandas/core/groupby/generic.py\u001b[0m in \u001b[0;36m__getitem__\u001b[0;34m(self, key)\u001b[0m\n\u001b[1;32m   1949\u001b[0m                 \u001b[0;34m\"Use a list instead.\"\u001b[0m\u001b[0;34m\u001b[0m\u001b[0;34m\u001b[0m\u001b[0m\n\u001b[1;32m   1950\u001b[0m             )\n\u001b[0;32m-> 1951\u001b[0;31m         \u001b[0;32mreturn\u001b[0m \u001b[0msuper\u001b[0m\u001b[0;34m(\u001b[0m\u001b[0;34m)\u001b[0m\u001b[0;34m.\u001b[0m\u001b[0m__getitem__\u001b[0m\u001b[0;34m(\u001b[0m\u001b[0mkey\u001b[0m\u001b[0;34m)\u001b[0m\u001b[0;34m\u001b[0m\u001b[0;34m\u001b[0m\u001b[0m\n\u001b[0m\u001b[1;32m   1952\u001b[0m \u001b[0;34m\u001b[0m\u001b[0m\n\u001b[1;32m   1953\u001b[0m     \u001b[0;32mdef\u001b[0m \u001b[0m_gotitem\u001b[0m\u001b[0;34m(\u001b[0m\u001b[0mself\u001b[0m\u001b[0;34m,\u001b[0m \u001b[0mkey\u001b[0m\u001b[0;34m,\u001b[0m \u001b[0mndim\u001b[0m\u001b[0;34m:\u001b[0m \u001b[0mint\u001b[0m\u001b[0;34m,\u001b[0m \u001b[0msubset\u001b[0m\u001b[0;34m=\u001b[0m\u001b[0;32mNone\u001b[0m\u001b[0;34m)\u001b[0m\u001b[0;34m:\u001b[0m\u001b[0;34m\u001b[0m\u001b[0;34m\u001b[0m\u001b[0m\n",
            "\u001b[0;32m/usr/local/lib/python3.10/dist-packages/pandas/core/base.py\u001b[0m in \u001b[0;36m__getitem__\u001b[0;34m(self, key)\u001b[0m\n\u001b[1;32m    242\u001b[0m         \u001b[0;32melse\u001b[0m\u001b[0;34m:\u001b[0m\u001b[0;34m\u001b[0m\u001b[0;34m\u001b[0m\u001b[0m\n\u001b[1;32m    243\u001b[0m             \u001b[0;32mif\u001b[0m \u001b[0mkey\u001b[0m \u001b[0;32mnot\u001b[0m \u001b[0;32min\u001b[0m \u001b[0mself\u001b[0m\u001b[0;34m.\u001b[0m\u001b[0mobj\u001b[0m\u001b[0;34m:\u001b[0m\u001b[0;34m\u001b[0m\u001b[0;34m\u001b[0m\u001b[0m\n\u001b[0;32m--> 244\u001b[0;31m                 \u001b[0;32mraise\u001b[0m \u001b[0mKeyError\u001b[0m\u001b[0;34m(\u001b[0m\u001b[0;34mf\"Column not found: {key}\"\u001b[0m\u001b[0;34m)\u001b[0m\u001b[0;34m\u001b[0m\u001b[0;34m\u001b[0m\u001b[0m\n\u001b[0m\u001b[1;32m    245\u001b[0m             \u001b[0mndim\u001b[0m \u001b[0;34m=\u001b[0m \u001b[0mself\u001b[0m\u001b[0;34m.\u001b[0m\u001b[0mobj\u001b[0m\u001b[0;34m[\u001b[0m\u001b[0mkey\u001b[0m\u001b[0;34m]\u001b[0m\u001b[0;34m.\u001b[0m\u001b[0mndim\u001b[0m\u001b[0;34m\u001b[0m\u001b[0;34m\u001b[0m\u001b[0m\n\u001b[1;32m    246\u001b[0m             \u001b[0;32mreturn\u001b[0m \u001b[0mself\u001b[0m\u001b[0;34m.\u001b[0m\u001b[0m_gotitem\u001b[0m\u001b[0;34m(\u001b[0m\u001b[0mkey\u001b[0m\u001b[0;34m,\u001b[0m \u001b[0mndim\u001b[0m\u001b[0;34m=\u001b[0m\u001b[0mndim\u001b[0m\u001b[0;34m)\u001b[0m\u001b[0;34m\u001b[0m\u001b[0;34m\u001b[0m\u001b[0m\n",
            "\u001b[0;31mKeyError\u001b[0m: 'Column not found: price'"
          ]
        }
      ],
      "source": [
        "average_price per_service = df.groupby('Customer_Type')['price'].mean()\n",
        "Output.append(f\"Avarage  price per Customer Type:\\n\")\n",
        "Output.append(f\"{average_price_per_service}\\n\")\n",
        "print(avarage_price_per_service)"
      ]
    }
  ],
  "metadata": {
    "colab": {
      "provenance": [],
      "authorship_tag": "ABX9TyP/Ps3RU8pidBXGYHlVCSDA",
      "include_colab_link": true
    },
    "kernelspec": {
      "display_name": "Python 3",
      "name": "python3"
    },
    "language_info": {
      "name": "python"
    }
  },
  "nbformat": 4,
  "nbformat_minor": 0
}